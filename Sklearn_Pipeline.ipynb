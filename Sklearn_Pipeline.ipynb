{
 "cells": [
  {
   "cell_type": "code",
   "execution_count": 36,
   "id": "c6d6a368-c0df-4516-a826-741fb45f4784",
   "metadata": {},
   "outputs": [],
   "source": [
    "# Basic data handling and numerical processing\n",
    "import pandas as pd                 # For data manipulation and analysis\n",
    "import time                         # For timing code execution\n",
    "\n",
    "# Scikit-learn - Data preprocessing and feature selection\n",
    "from sklearn.preprocessing import StandardScaler, MinMaxScaler  # For feature scaling\n",
    "from sklearn.feature_selection import SelectKBest, f_classif    # For feature selection\n",
    "\n",
    "# Scikit-learn - Model selection and evaluation\n",
    "from sklearn.model_selection import train_test_split            # For splitting data into training and testing sets\n",
    "from sklearn.metrics import confusion_matrix, accuracy_score    # For model evaluation\n",
    "\n",
    "# Scikit-learn - Machine learning algorithms\n",
    "from sklearn.linear_model import LogisticRegression\n",
    "from sklearn.ensemble import RandomForestClassifier, AdaBoostClassifier  # Ensemble methods\n",
    "from sklearn.svm import SVC                                          # Support Vector Machine classifier\n",
    "\n",
    "# Scikit-learn - Pipeline utilities\n",
    "from sklearn.pipeline import Pipeline          # For creating machine learning pipelines\n",
    "from sklearn.compose import ColumnTransformer  # For applying transformers to columns of Pandas dataframes\n",
    "\n",
    "# Scikit-learn - Dataset generation\n",
    "from sklearn.datasets import make_classification  # For generating a random n-class classification problem\n"
   ]
  },
  {
   "cell_type": "code",
   "execution_count": 27,
   "id": "2ef8068a-775c-4085-89c8-4c400249c208",
   "metadata": {},
   "outputs": [],
   "source": [
    "# Make a fake an complex dataset\n",
    "X, y = make_classification(n_samples=100000,# Large number of samples\n",
    "                           n_classes=5,\n",
    "                           n_features=100,    # Large number of features\n",
    "                           n_informative=50,  # Number of informative features\n",
    "                           n_redundant=10,    # Number of redundant features\n",
    "                           n_clusters_per_class=3,  # Complexity in data\n",
    "                           random_state=42)"
   ]
  },
  {
   "cell_type": "code",
   "execution_count": 37,
   "id": "6eedee5e-99d6-4cb4-9057-06d06af4a04c",
   "metadata": {},
   "outputs": [
    {
     "data": {
      "text/html": [
       "<div>\n",
       "<style scoped>\n",
       "    .dataframe tbody tr th:only-of-type {\n",
       "        vertical-align: middle;\n",
       "    }\n",
       "\n",
       "    .dataframe tbody tr th {\n",
       "        vertical-align: top;\n",
       "    }\n",
       "\n",
       "    .dataframe thead th {\n",
       "        text-align: right;\n",
       "    }\n",
       "</style>\n",
       "<table border=\"1\" class=\"dataframe\">\n",
       "  <thead>\n",
       "    <tr style=\"text-align: right;\">\n",
       "      <th></th>\n",
       "      <th>0</th>\n",
       "      <th>1</th>\n",
       "      <th>2</th>\n",
       "      <th>3</th>\n",
       "      <th>4</th>\n",
       "      <th>5</th>\n",
       "      <th>6</th>\n",
       "      <th>7</th>\n",
       "      <th>8</th>\n",
       "      <th>9</th>\n",
       "      <th>...</th>\n",
       "      <th>90</th>\n",
       "      <th>91</th>\n",
       "      <th>92</th>\n",
       "      <th>93</th>\n",
       "      <th>94</th>\n",
       "      <th>95</th>\n",
       "      <th>96</th>\n",
       "      <th>97</th>\n",
       "      <th>98</th>\n",
       "      <th>99</th>\n",
       "    </tr>\n",
       "  </thead>\n",
       "  <tbody>\n",
       "    <tr>\n",
       "      <th>0</th>\n",
       "      <td>0.249074</td>\n",
       "      <td>-1.662979</td>\n",
       "      <td>3.620188</td>\n",
       "      <td>-2.026560</td>\n",
       "      <td>1.444258</td>\n",
       "      <td>-1.604939</td>\n",
       "      <td>-7.536499</td>\n",
       "      <td>-3.347722</td>\n",
       "      <td>-0.671021</td>\n",
       "      <td>-0.165953</td>\n",
       "      <td>...</td>\n",
       "      <td>2.274136</td>\n",
       "      <td>-7.732157</td>\n",
       "      <td>19.526272</td>\n",
       "      <td>-3.670708</td>\n",
       "      <td>0.689832</td>\n",
       "      <td>8.363257</td>\n",
       "      <td>2.605347</td>\n",
       "      <td>46.894223</td>\n",
       "      <td>-5.705433</td>\n",
       "      <td>0.007832</td>\n",
       "    </tr>\n",
       "    <tr>\n",
       "      <th>1</th>\n",
       "      <td>-1.487609</td>\n",
       "      <td>1.086423</td>\n",
       "      <td>-7.084398</td>\n",
       "      <td>1.701420</td>\n",
       "      <td>-3.667561</td>\n",
       "      <td>1.396777</td>\n",
       "      <td>-1.884257</td>\n",
       "      <td>6.509376</td>\n",
       "      <td>-0.008781</td>\n",
       "      <td>1.748435</td>\n",
       "      <td>...</td>\n",
       "      <td>-1.294777</td>\n",
       "      <td>2.874897</td>\n",
       "      <td>-20.886530</td>\n",
       "      <td>-2.582731</td>\n",
       "      <td>2.119685</td>\n",
       "      <td>-4.562733</td>\n",
       "      <td>2.455793</td>\n",
       "      <td>-20.112751</td>\n",
       "      <td>1.963437</td>\n",
       "      <td>0.727768</td>\n",
       "    </tr>\n",
       "    <tr>\n",
       "      <th>2</th>\n",
       "      <td>1.748358</td>\n",
       "      <td>2.259034</td>\n",
       "      <td>2.756386</td>\n",
       "      <td>-0.550596</td>\n",
       "      <td>6.249146</td>\n",
       "      <td>2.389290</td>\n",
       "      <td>-3.277544</td>\n",
       "      <td>1.760280</td>\n",
       "      <td>0.169276</td>\n",
       "      <td>0.365308</td>\n",
       "      <td>...</td>\n",
       "      <td>-0.243318</td>\n",
       "      <td>7.236897</td>\n",
       "      <td>0.866962</td>\n",
       "      <td>-3.191125</td>\n",
       "      <td>1.413882</td>\n",
       "      <td>-1.946430</td>\n",
       "      <td>1.856227</td>\n",
       "      <td>0.799218</td>\n",
       "      <td>3.892423</td>\n",
       "      <td>1.440825</td>\n",
       "    </tr>\n",
       "    <tr>\n",
       "      <th>3</th>\n",
       "      <td>0.619607</td>\n",
       "      <td>0.492218</td>\n",
       "      <td>-5.005010</td>\n",
       "      <td>-3.630852</td>\n",
       "      <td>0.573500</td>\n",
       "      <td>-2.928691</td>\n",
       "      <td>-2.063202</td>\n",
       "      <td>1.430140</td>\n",
       "      <td>-0.013358</td>\n",
       "      <td>0.353652</td>\n",
       "      <td>...</td>\n",
       "      <td>0.730538</td>\n",
       "      <td>-4.858785</td>\n",
       "      <td>15.227895</td>\n",
       "      <td>7.877092</td>\n",
       "      <td>0.515281</td>\n",
       "      <td>4.949889</td>\n",
       "      <td>2.680786</td>\n",
       "      <td>14.099886</td>\n",
       "      <td>7.892850</td>\n",
       "      <td>0.220872</td>\n",
       "    </tr>\n",
       "    <tr>\n",
       "      <th>4</th>\n",
       "      <td>0.290803</td>\n",
       "      <td>-3.608448</td>\n",
       "      <td>5.608295</td>\n",
       "      <td>-0.046357</td>\n",
       "      <td>4.531516</td>\n",
       "      <td>-0.187625</td>\n",
       "      <td>1.207627</td>\n",
       "      <td>0.766376</td>\n",
       "      <td>-0.864373</td>\n",
       "      <td>-1.172826</td>\n",
       "      <td>...</td>\n",
       "      <td>-0.709476</td>\n",
       "      <td>-0.595337</td>\n",
       "      <td>7.506311</td>\n",
       "      <td>5.039526</td>\n",
       "      <td>0.462610</td>\n",
       "      <td>-4.940043</td>\n",
       "      <td>-2.834191</td>\n",
       "      <td>26.225681</td>\n",
       "      <td>0.928784</td>\n",
       "      <td>1.398901</td>\n",
       "    </tr>\n",
       "    <tr>\n",
       "      <th>...</th>\n",
       "      <td>...</td>\n",
       "      <td>...</td>\n",
       "      <td>...</td>\n",
       "      <td>...</td>\n",
       "      <td>...</td>\n",
       "      <td>...</td>\n",
       "      <td>...</td>\n",
       "      <td>...</td>\n",
       "      <td>...</td>\n",
       "      <td>...</td>\n",
       "      <td>...</td>\n",
       "      <td>...</td>\n",
       "      <td>...</td>\n",
       "      <td>...</td>\n",
       "      <td>...</td>\n",
       "      <td>...</td>\n",
       "      <td>...</td>\n",
       "      <td>...</td>\n",
       "      <td>...</td>\n",
       "      <td>...</td>\n",
       "      <td>...</td>\n",
       "    </tr>\n",
       "    <tr>\n",
       "      <th>99995</th>\n",
       "      <td>-0.010659</td>\n",
       "      <td>1.777973</td>\n",
       "      <td>-0.312340</td>\n",
       "      <td>1.357472</td>\n",
       "      <td>4.885210</td>\n",
       "      <td>-0.498488</td>\n",
       "      <td>1.305339</td>\n",
       "      <td>-2.630185</td>\n",
       "      <td>0.181239</td>\n",
       "      <td>0.708548</td>\n",
       "      <td>...</td>\n",
       "      <td>0.418166</td>\n",
       "      <td>1.670129</td>\n",
       "      <td>0.053675</td>\n",
       "      <td>2.274703</td>\n",
       "      <td>-0.910542</td>\n",
       "      <td>-6.214790</td>\n",
       "      <td>-2.025914</td>\n",
       "      <td>-6.356494</td>\n",
       "      <td>3.496883</td>\n",
       "      <td>-0.631609</td>\n",
       "    </tr>\n",
       "    <tr>\n",
       "      <th>99996</th>\n",
       "      <td>-1.378788</td>\n",
       "      <td>3.989405</td>\n",
       "      <td>-2.016169</td>\n",
       "      <td>0.713512</td>\n",
       "      <td>2.141328</td>\n",
       "      <td>0.051475</td>\n",
       "      <td>1.988437</td>\n",
       "      <td>2.865841</td>\n",
       "      <td>0.578019</td>\n",
       "      <td>-0.334300</td>\n",
       "      <td>...</td>\n",
       "      <td>0.095726</td>\n",
       "      <td>-2.281722</td>\n",
       "      <td>-24.816425</td>\n",
       "      <td>-4.251613</td>\n",
       "      <td>1.120953</td>\n",
       "      <td>-2.698653</td>\n",
       "      <td>-2.879288</td>\n",
       "      <td>-14.415476</td>\n",
       "      <td>-0.074965</td>\n",
       "      <td>-0.597848</td>\n",
       "    </tr>\n",
       "    <tr>\n",
       "      <th>99997</th>\n",
       "      <td>-0.013823</td>\n",
       "      <td>0.224935</td>\n",
       "      <td>4.193758</td>\n",
       "      <td>0.330235</td>\n",
       "      <td>8.345118</td>\n",
       "      <td>0.370281</td>\n",
       "      <td>2.696467</td>\n",
       "      <td>6.244126</td>\n",
       "      <td>-0.283730</td>\n",
       "      <td>0.084403</td>\n",
       "      <td>...</td>\n",
       "      <td>0.184015</td>\n",
       "      <td>2.677937</td>\n",
       "      <td>-10.257050</td>\n",
       "      <td>-3.806622</td>\n",
       "      <td>-0.555677</td>\n",
       "      <td>-3.534904</td>\n",
       "      <td>-5.756449</td>\n",
       "      <td>-3.938316</td>\n",
       "      <td>-6.555128</td>\n",
       "      <td>1.286027</td>\n",
       "    </tr>\n",
       "    <tr>\n",
       "      <th>99998</th>\n",
       "      <td>-0.155785</td>\n",
       "      <td>2.437995</td>\n",
       "      <td>7.001220</td>\n",
       "      <td>0.670684</td>\n",
       "      <td>2.294471</td>\n",
       "      <td>-1.061331</td>\n",
       "      <td>-1.080551</td>\n",
       "      <td>8.998209</td>\n",
       "      <td>0.645305</td>\n",
       "      <td>1.179597</td>\n",
       "      <td>...</td>\n",
       "      <td>2.487604</td>\n",
       "      <td>1.204669</td>\n",
       "      <td>-34.725457</td>\n",
       "      <td>-3.118910</td>\n",
       "      <td>-0.503067</td>\n",
       "      <td>-5.817525</td>\n",
       "      <td>2.007334</td>\n",
       "      <td>17.565355</td>\n",
       "      <td>0.602449</td>\n",
       "      <td>0.069982</td>\n",
       "    </tr>\n",
       "    <tr>\n",
       "      <th>99999</th>\n",
       "      <td>0.189790</td>\n",
       "      <td>-1.898268</td>\n",
       "      <td>-1.282874</td>\n",
       "      <td>-0.274220</td>\n",
       "      <td>0.099891</td>\n",
       "      <td>-0.616771</td>\n",
       "      <td>1.118017</td>\n",
       "      <td>0.298360</td>\n",
       "      <td>1.090821</td>\n",
       "      <td>-0.034147</td>\n",
       "      <td>...</td>\n",
       "      <td>-0.632791</td>\n",
       "      <td>5.784838</td>\n",
       "      <td>-20.767853</td>\n",
       "      <td>-4.961945</td>\n",
       "      <td>-0.168336</td>\n",
       "      <td>2.492596</td>\n",
       "      <td>1.263648</td>\n",
       "      <td>5.675441</td>\n",
       "      <td>-1.008551</td>\n",
       "      <td>0.616330</td>\n",
       "    </tr>\n",
       "  </tbody>\n",
       "</table>\n",
       "<p>100000 rows × 100 columns</p>\n",
       "</div>"
      ],
      "text/plain": [
       "             0         1         2         3         4         5         6   \\\n",
       "0      0.249074 -1.662979  3.620188 -2.026560  1.444258 -1.604939 -7.536499   \n",
       "1     -1.487609  1.086423 -7.084398  1.701420 -3.667561  1.396777 -1.884257   \n",
       "2      1.748358  2.259034  2.756386 -0.550596  6.249146  2.389290 -3.277544   \n",
       "3      0.619607  0.492218 -5.005010 -3.630852  0.573500 -2.928691 -2.063202   \n",
       "4      0.290803 -3.608448  5.608295 -0.046357  4.531516 -0.187625  1.207627   \n",
       "...         ...       ...       ...       ...       ...       ...       ...   \n",
       "99995 -0.010659  1.777973 -0.312340  1.357472  4.885210 -0.498488  1.305339   \n",
       "99996 -1.378788  3.989405 -2.016169  0.713512  2.141328  0.051475  1.988437   \n",
       "99997 -0.013823  0.224935  4.193758  0.330235  8.345118  0.370281  2.696467   \n",
       "99998 -0.155785  2.437995  7.001220  0.670684  2.294471 -1.061331 -1.080551   \n",
       "99999  0.189790 -1.898268 -1.282874 -0.274220  0.099891 -0.616771  1.118017   \n",
       "\n",
       "             7         8         9   ...        90        91         92  \\\n",
       "0     -3.347722 -0.671021 -0.165953  ...  2.274136 -7.732157  19.526272   \n",
       "1      6.509376 -0.008781  1.748435  ... -1.294777  2.874897 -20.886530   \n",
       "2      1.760280  0.169276  0.365308  ... -0.243318  7.236897   0.866962   \n",
       "3      1.430140 -0.013358  0.353652  ...  0.730538 -4.858785  15.227895   \n",
       "4      0.766376 -0.864373 -1.172826  ... -0.709476 -0.595337   7.506311   \n",
       "...         ...       ...       ...  ...       ...       ...        ...   \n",
       "99995 -2.630185  0.181239  0.708548  ...  0.418166  1.670129   0.053675   \n",
       "99996  2.865841  0.578019 -0.334300  ...  0.095726 -2.281722 -24.816425   \n",
       "99997  6.244126 -0.283730  0.084403  ...  0.184015  2.677937 -10.257050   \n",
       "99998  8.998209  0.645305  1.179597  ...  2.487604  1.204669 -34.725457   \n",
       "99999  0.298360  1.090821 -0.034147  ... -0.632791  5.784838 -20.767853   \n",
       "\n",
       "             93        94        95        96         97        98        99  \n",
       "0     -3.670708  0.689832  8.363257  2.605347  46.894223 -5.705433  0.007832  \n",
       "1     -2.582731  2.119685 -4.562733  2.455793 -20.112751  1.963437  0.727768  \n",
       "2     -3.191125  1.413882 -1.946430  1.856227   0.799218  3.892423  1.440825  \n",
       "3      7.877092  0.515281  4.949889  2.680786  14.099886  7.892850  0.220872  \n",
       "4      5.039526  0.462610 -4.940043 -2.834191  26.225681  0.928784  1.398901  \n",
       "...         ...       ...       ...       ...        ...       ...       ...  \n",
       "99995  2.274703 -0.910542 -6.214790 -2.025914  -6.356494  3.496883 -0.631609  \n",
       "99996 -4.251613  1.120953 -2.698653 -2.879288 -14.415476 -0.074965 -0.597848  \n",
       "99997 -3.806622 -0.555677 -3.534904 -5.756449  -3.938316 -6.555128  1.286027  \n",
       "99998 -3.118910 -0.503067 -5.817525  2.007334  17.565355  0.602449  0.069982  \n",
       "99999 -4.961945 -0.168336  2.492596  1.263648   5.675441 -1.008551  0.616330  \n",
       "\n",
       "[100000 rows x 100 columns]"
      ]
     },
     "execution_count": 37,
     "metadata": {},
     "output_type": "execute_result"
    }
   ],
   "source": [
    "pd.DataFrame(X)"
   ]
  },
  {
   "cell_type": "code",
   "execution_count": 38,
   "id": "c71eaa0c-7d8d-4210-ae52-b8a39b2bb1a0",
   "metadata": {},
   "outputs": [],
   "source": [
    "# Split your Dataset\n",
    "X_train, X_test, y_train, y_test = train_test_split(X, y, test_size=0.2, random_state=42)"
   ]
  },
  {
   "cell_type": "code",
   "execution_count": 39,
   "id": "6b640b60-7656-4059-8535-d74814ab87ad",
   "metadata": {},
   "outputs": [
    {
     "data": {
      "text/plain": [
       "(80000, 100)"
      ]
     },
     "execution_count": 39,
     "metadata": {},
     "output_type": "execute_result"
    }
   ],
   "source": [
    "X_train.shape"
   ]
  },
  {
   "cell_type": "code",
   "execution_count": 40,
   "id": "ca6439d9-ccc0-4125-826b-814d25bb369c",
   "metadata": {},
   "outputs": [
    {
     "data": {
      "text/plain": [
       "array([3, 0, 0, ..., 4, 2, 3])"
      ]
     },
     "execution_count": 40,
     "metadata": {},
     "output_type": "execute_result"
    }
   ],
   "source": [
    "y_train"
   ]
  },
  {
   "cell_type": "markdown",
   "id": "ebed990a-54b4-4f18-970d-ef8adf3f1928",
   "metadata": {},
   "source": [
    "# Chat GPT"
   ]
  },
  {
   "cell_type": "code",
   "execution_count": null,
   "id": "9af7ab9f-5427-416e-8ba5-438337c8840f",
   "metadata": {},
   "outputs": [],
   "source": [
    "# Create a pipeline with a fast solver and limited iterations\n",
    "logistic_pipeline = Pipeline([\n",
    "    ('scaler', StandardScaler()),\n",
    "    ('logistic', LogisticRegression(solver='saga', max_iter=100, n_jobs=-1))\n",
    "])\n",
    "\n",
    "# Fit the pipeline on your training data\n",
    "logistic_pipeline.fit(X_train, y_train)\n",
    "\n",
    "# Make predictions\n",
    "predictions = logistic_pipeline.predict(X_test)"
   ]
  },
  {
   "cell_type": "code",
   "execution_count": null,
   "id": "de37e6d5-3d22-4d15-b314-9a02b5ff77df",
   "metadata": {},
   "outputs": [],
   "source": [
    "# yen Usage Limits"
   ]
  },
  {
   "attachments": {
    "51a2d1ed-0f2d-46c6-879c-4112847aa13f.png": {
     "image/png": "[encoded data removed]"
    }
   },
   "cell_type": "markdown",
   "id": "c54742e1-8266-4bc3-8ca1-dfda1f87c659",
   "metadata": {},
   "source": [
    "![image.png](attachment:51a2d1ed-0f2d-46c6-879c-4112847aa13f.png)"
   ]
  },
  {
   "cell_type": "markdown",
   "id": "39a33d77-cf6a-4d42-b3c2-a0ffca2856a9",
   "metadata": {},
   "source": [
    "# Why Cores Matter"
   ]
  },
  {
   "cell_type": "markdown",
   "id": "b70c2e5a-9408-4483-90eb-65192b24a3df",
   "metadata": {},
   "source": [
    "## 10 Cores"
   ]
  },
  {
   "cell_type": "code",
   "execution_count": 41,
   "id": "a716fd57-365c-4a4c-8ea4-ab2e2f65908c",
   "metadata": {},
   "outputs": [
    {
     "name": "stdout",
     "output_type": "stream",
     "text": [
      "Total Time: 12.71 seconds\n"
     ]
    },
    {
     "data": {
      "text/html": [
       "<style>#sk-container-id-13 {color: black;}#sk-container-id-13 pre{padding: 0;}#sk-container-id-13 div.sk-toggleable {background-color: white;}#sk-container-id-13 label.sk-toggleable__label {cursor: pointer;display: block;width: 100%;margin-bottom: 0;padding: 0.3em;box-sizing: border-box;text-align: center;}#sk-container-id-13 label.sk-toggleable__label-arrow:before {content: \"▸\";float: left;margin-right: 0.25em;color: #696969;}#sk-container-id-13 label.sk-toggleable__label-arrow:hover:before {color: black;}#sk-container-id-13 div.sk-estimator:hover label.sk-toggleable__label-arrow:before {color: black;}#sk-container-id-13 div.sk-toggleable__content {max-height: 0;max-width: 0;overflow: hidden;text-align: left;background-color: #f0f8ff;}#sk-container-id-13 div.sk-toggleable__content pre {margin: 0.2em;color: black;border-radius: 0.25em;background-color: #f0f8ff;}#sk-container-id-13 input.sk-toggleable__control:checked~div.sk-toggleable__content {max-height: 200px;max-width: 100%;overflow: auto;}#sk-container-id-13 input.sk-toggleable__control:checked~label.sk-toggleable__label-arrow:before {content: \"▾\";}#sk-container-id-13 div.sk-estimator input.sk-toggleable__control:checked~label.sk-toggleable__label {background-color: #d4ebff;}#sk-container-id-13 div.sk-label input.sk-toggleable__control:checked~label.sk-toggleable__label {background-color: #d4ebff;}#sk-container-id-13 input.sk-hidden--visually {border: 0;clip: rect(1px 1px 1px 1px);clip: rect(1px, 1px, 1px, 1px);height: 1px;margin: -1px;overflow: hidden;padding: 0;position: absolute;width: 1px;}#sk-container-id-13 div.sk-estimator {font-family: monospace;background-color: #f0f8ff;border: 1px dotted black;border-radius: 0.25em;box-sizing: border-box;margin-bottom: 0.5em;}#sk-container-id-13 div.sk-estimator:hover {background-color: #d4ebff;}#sk-container-id-13 div.sk-parallel-item::after {content: \"\";width: 100%;border-bottom: 1px solid gray;flex-grow: 1;}#sk-container-id-13 div.sk-label:hover label.sk-toggleable__label {background-color: #d4ebff;}#sk-container-id-13 div.sk-serial::before {content: \"\";position: absolute;border-left: 1px solid gray;box-sizing: border-box;top: 0;bottom: 0;left: 50%;z-index: 0;}#sk-container-id-13 div.sk-serial {display: flex;flex-direction: column;align-items: center;background-color: white;padding-right: 0.2em;padding-left: 0.2em;position: relative;}#sk-container-id-13 div.sk-item {position: relative;z-index: 1;}#sk-container-id-13 div.sk-parallel {display: flex;align-items: stretch;justify-content: center;background-color: white;position: relative;}#sk-container-id-13 div.sk-item::before, #sk-container-id-13 div.sk-parallel-item::before {content: \"\";position: absolute;border-left: 1px solid gray;box-sizing: border-box;top: 0;bottom: 0;left: 50%;z-index: -1;}#sk-container-id-13 div.sk-parallel-item {display: flex;flex-direction: column;z-index: 1;position: relative;background-color: white;}#sk-container-id-13 div.sk-parallel-item:first-child::after {align-self: flex-end;width: 50%;}#sk-container-id-13 div.sk-parallel-item:last-child::after {align-self: flex-start;width: 50%;}#sk-container-id-13 div.sk-parallel-item:only-child::after {width: 0;}#sk-container-id-13 div.sk-dashed-wrapped {border: 1px dashed gray;margin: 0 0.4em 0.5em 0.4em;box-sizing: border-box;padding-bottom: 0.4em;background-color: white;}#sk-container-id-13 div.sk-label label {font-family: monospace;font-weight: bold;display: inline-block;line-height: 1.2em;}#sk-container-id-13 div.sk-label-container {text-align: center;}#sk-container-id-13 div.sk-container {/* jupyter's `normalize.less` sets `[hidden] { display: none; }` but bootstrap.min.css set `[hidden] { display: none !important; }` so we also need the `!important` here to be able to override the default hidden behavior on the sphinx rendered scikit-learn.org. See: https://github.com/scikit-learn/scikit-learn/issues/21755 */display: inline-block !important;position: relative;}#sk-container-id-13 div.sk-text-repr-fallback {display: none;}</style><div id=\"sk-container-id-13\" class=\"sk-top-container\"><div class=\"sk-text-repr-fallback\"><pre>Pipeline(steps=[(&#x27;scaler&#x27;, StandardScaler()),\n",
       "                (&#x27;classifier&#x27;,\n",
       "                 RandomForestClassifier(n_jobs=10, random_state=42))])</pre><b>In a Jupyter environment, please rerun this cell to show the HTML representation or trust the notebook. <br />On GitHub, the HTML representation is unable to render, please try loading this page with nbviewer.org.</b></div><div class=\"sk-container\" hidden><div class=\"sk-item sk-dashed-wrapped\"><div class=\"sk-label-container\"><div class=\"sk-label sk-toggleable\"><input class=\"sk-toggleable__control sk-hidden--visually\" id=\"sk-estimator-id-63\" type=\"checkbox\" ><label for=\"sk-estimator-id-63\" class=\"sk-toggleable__label sk-toggleable__label-arrow\">Pipeline</label><div class=\"sk-toggleable__content\"><pre>Pipeline(steps=[(&#x27;scaler&#x27;, StandardScaler()),\n",
       "                (&#x27;classifier&#x27;,\n",
       "                 RandomForestClassifier(n_jobs=10, random_state=42))])</pre></div></div></div><div class=\"sk-serial\"><div class=\"sk-item\"><div class=\"sk-estimator sk-toggleable\"><input class=\"sk-toggleable__control sk-hidden--visually\" id=\"sk-estimator-id-64\" type=\"checkbox\" ><label for=\"sk-estimator-id-64\" class=\"sk-toggleable__label sk-toggleable__label-arrow\">StandardScaler</label><div class=\"sk-toggleable__content\"><pre>StandardScaler()</pre></div></div></div><div class=\"sk-item\"><div class=\"sk-estimator sk-toggleable\"><input class=\"sk-toggleable__control sk-hidden--visually\" id=\"sk-estimator-id-65\" type=\"checkbox\" ><label for=\"sk-estimator-id-65\" class=\"sk-toggleable__label sk-toggleable__label-arrow\">RandomForestClassifier</label><div class=\"sk-toggleable__content\"><pre>RandomForestClassifier(n_jobs=10, random_state=42)</pre></div></div></div></div></div></div></div>"
      ],
      "text/plain": [
       "Pipeline(steps=[('scaler', StandardScaler()),\n",
       "                ('classifier',\n",
       "                 RandomForestClassifier(n_jobs=10, random_state=42))])"
      ]
     },
     "execution_count": 41,
     "metadata": {},
     "output_type": "execute_result"
    }
   ],
   "source": [
    "# Create a pipeline\n",
    "time_start=time.time()\n",
    "\n",
    "pipeline = Pipeline([\n",
    "    ('scaler', StandardScaler()),  # Feature scaling\n",
    "    ('classifier', RandomForestClassifier(random_state=42,n_jobs=10))  # Classifier\n",
    "])\n",
    "# Train the pipeline on the training data\n",
    "pipeline.fit(X_train, y_train)\n",
    "\n",
    "time_end=time.time()\n",
    "total_time=(time_end-time_start)\n",
    "print(f'Total Time: {round(total_time,2)} seconds',)\n",
    "pipeline"
   ]
  },
  {
   "cell_type": "markdown",
   "id": "11ceea52-2e02-41e7-9470-89bbedefe3ec",
   "metadata": {},
   "source": [
    "## 40 Cores"
   ]
  },
  {
   "cell_type": "code",
   "execution_count": 42,
   "id": "5d1babe7-13b3-4130-8b0b-a47c878fa837",
   "metadata": {},
   "outputs": [
    {
     "name": "stdout",
     "output_type": "stream",
     "text": [
      "Total Time: 4.08 seconds\n"
     ]
    },
    {
     "data": {
      "text/html": [
       "<style>#sk-container-id-14 {color: black;}#sk-container-id-14 pre{padding: 0;}#sk-container-id-14 div.sk-toggleable {background-color: white;}#sk-container-id-14 label.sk-toggleable__label {cursor: pointer;display: block;width: 100%;margin-bottom: 0;padding: 0.3em;box-sizing: border-box;text-align: center;}#sk-container-id-14 label.sk-toggleable__label-arrow:before {content: \"▸\";float: left;margin-right: 0.25em;color: #696969;}#sk-container-id-14 label.sk-toggleable__label-arrow:hover:before {color: black;}#sk-container-id-14 div.sk-estimator:hover label.sk-toggleable__label-arrow:before {color: black;}#sk-container-id-14 div.sk-toggleable__content {max-height: 0;max-width: 0;overflow: hidden;text-align: left;background-color: #f0f8ff;}#sk-container-id-14 div.sk-toggleable__content pre {margin: 0.2em;color: black;border-radius: 0.25em;background-color: #f0f8ff;}#sk-container-id-14 input.sk-toggleable__control:checked~div.sk-toggleable__content {max-height: 200px;max-width: 100%;overflow: auto;}#sk-container-id-14 input.sk-toggleable__control:checked~label.sk-toggleable__label-arrow:before {content: \"▾\";}#sk-container-id-14 div.sk-estimator input.sk-toggleable__control:checked~label.sk-toggleable__label {background-color: #d4ebff;}#sk-container-id-14 div.sk-label input.sk-toggleable__control:checked~label.sk-toggleable__label {background-color: #d4ebff;}#sk-container-id-14 input.sk-hidden--visually {border: 0;clip: rect(1px 1px 1px 1px);clip: rect(1px, 1px, 1px, 1px);height: 1px;margin: -1px;overflow: hidden;padding: 0;position: absolute;width: 1px;}#sk-container-id-14 div.sk-estimator {font-family: monospace;background-color: #f0f8ff;border: 1px dotted black;border-radius: 0.25em;box-sizing: border-box;margin-bottom: 0.5em;}#sk-container-id-14 div.sk-estimator:hover {background-color: #d4ebff;}#sk-container-id-14 div.sk-parallel-item::after {content: \"\";width: 100%;border-bottom: 1px solid gray;flex-grow: 1;}#sk-container-id-14 div.sk-label:hover label.sk-toggleable__label {background-color: #d4ebff;}#sk-container-id-14 div.sk-serial::before {content: \"\";position: absolute;border-left: 1px solid gray;box-sizing: border-box;top: 0;bottom: 0;left: 50%;z-index: 0;}#sk-container-id-14 div.sk-serial {display: flex;flex-direction: column;align-items: center;background-color: white;padding-right: 0.2em;padding-left: 0.2em;position: relative;}#sk-container-id-14 div.sk-item {position: relative;z-index: 1;}#sk-container-id-14 div.sk-parallel {display: flex;align-items: stretch;justify-content: center;background-color: white;position: relative;}#sk-container-id-14 div.sk-item::before, #sk-container-id-14 div.sk-parallel-item::before {content: \"\";position: absolute;border-left: 1px solid gray;box-sizing: border-box;top: 0;bottom: 0;left: 50%;z-index: -1;}#sk-container-id-14 div.sk-parallel-item {display: flex;flex-direction: column;z-index: 1;position: relative;background-color: white;}#sk-container-id-14 div.sk-parallel-item:first-child::after {align-self: flex-end;width: 50%;}#sk-container-id-14 div.sk-parallel-item:last-child::after {align-self: flex-start;width: 50%;}#sk-container-id-14 div.sk-parallel-item:only-child::after {width: 0;}#sk-container-id-14 div.sk-dashed-wrapped {border: 1px dashed gray;margin: 0 0.4em 0.5em 0.4em;box-sizing: border-box;padding-bottom: 0.4em;background-color: white;}#sk-container-id-14 div.sk-label label {font-family: monospace;font-weight: bold;display: inline-block;line-height: 1.2em;}#sk-container-id-14 div.sk-label-container {text-align: center;}#sk-container-id-14 div.sk-container {/* jupyter's `normalize.less` sets `[hidden] { display: none; }` but bootstrap.min.css set `[hidden] { display: none !important; }` so we also need the `!important` here to be able to override the default hidden behavior on the sphinx rendered scikit-learn.org. See: https://github.com/scikit-learn/scikit-learn/issues/21755 */display: inline-block !important;position: relative;}#sk-container-id-14 div.sk-text-repr-fallback {display: none;}</style><div id=\"sk-container-id-14\" class=\"sk-top-container\"><div class=\"sk-text-repr-fallback\"><pre>Pipeline(steps=[(&#x27;scaler&#x27;, StandardScaler()),\n",
       "                (&#x27;classifier&#x27;,\n",
       "                 RandomForestClassifier(n_jobs=40, random_state=42))])</pre><b>In a Jupyter environment, please rerun this cell to show the HTML representation or trust the notebook. <br />On GitHub, the HTML representation is unable to render, please try loading this page with nbviewer.org.</b></div><div class=\"sk-container\" hidden><div class=\"sk-item sk-dashed-wrapped\"><div class=\"sk-label-container\"><div class=\"sk-label sk-toggleable\"><input class=\"sk-toggleable__control sk-hidden--visually\" id=\"sk-estimator-id-66\" type=\"checkbox\" ><label for=\"sk-estimator-id-66\" class=\"sk-toggleable__label sk-toggleable__label-arrow\">Pipeline</label><div class=\"sk-toggleable__content\"><pre>Pipeline(steps=[(&#x27;scaler&#x27;, StandardScaler()),\n",
       "                (&#x27;classifier&#x27;,\n",
       "                 RandomForestClassifier(n_jobs=40, random_state=42))])</pre></div></div></div><div class=\"sk-serial\"><div class=\"sk-item\"><div class=\"sk-estimator sk-toggleable\"><input class=\"sk-toggleable__control sk-hidden--visually\" id=\"sk-estimator-id-67\" type=\"checkbox\" ><label for=\"sk-estimator-id-67\" class=\"sk-toggleable__label sk-toggleable__label-arrow\">StandardScaler</label><div class=\"sk-toggleable__content\"><pre>StandardScaler()</pre></div></div></div><div class=\"sk-item\"><div class=\"sk-estimator sk-toggleable\"><input class=\"sk-toggleable__control sk-hidden--visually\" id=\"sk-estimator-id-68\" type=\"checkbox\" ><label for=\"sk-estimator-id-68\" class=\"sk-toggleable__label sk-toggleable__label-arrow\">RandomForestClassifier</label><div class=\"sk-toggleable__content\"><pre>RandomForestClassifier(n_jobs=40, random_state=42)</pre></div></div></div></div></div></div></div>"
      ],
      "text/plain": [
       "Pipeline(steps=[('scaler', StandardScaler()),\n",
       "                ('classifier',\n",
       "                 RandomForestClassifier(n_jobs=40, random_state=42))])"
      ]
     },
     "execution_count": 42,
     "metadata": {},
     "output_type": "execute_result"
    }
   ],
   "source": [
    "# Create a pipeline\n",
    "time_start=time.time()\n",
    "\n",
    "pipeline = Pipeline([\n",
    "    ('scaler', StandardScaler()),  # Feature scaling\n",
    "    ('classifier', RandomForestClassifier(random_state=42,n_jobs=40))  # Classifier\n",
    "])\n",
    "# Train the pipeline on the training data\n",
    "pipeline.fit(X_train, y_train)\n",
    "\n",
    "time_end=time.time()\n",
    "total_time=(time_end-time_start)\n",
    "print(f'Total Time: {round(total_time,2)} seconds')\n",
    "pipeline"
   ]
  },
  {
   "cell_type": "code",
   "execution_count": null,
   "id": "c27d0809-71ba-4353-82b5-34630b360490",
   "metadata": {},
   "outputs": [],
   "source": [
    "# More Advanced"
   ]
  },
  {
   "cell_type": "code",
   "execution_count": 50,
   "id": "053b9ce0-e75e-4bcb-834c-b8f52f9e1293",
   "metadata": {},
   "outputs": [
    {
     "name": "stdout",
     "output_type": "stream",
     "text": [
      "Total Time: 19.6 seconds\n"
     ]
    },
    {
     "data": {
      "text/html": [
       "<style>#sk-container-id-17 {color: black;}#sk-container-id-17 pre{padding: 0;}#sk-container-id-17 div.sk-toggleable {background-color: white;}#sk-container-id-17 label.sk-toggleable__label {cursor: pointer;display: block;width: 100%;margin-bottom: 0;padding: 0.3em;box-sizing: border-box;text-align: center;}#sk-container-id-17 label.sk-toggleable__label-arrow:before {content: \"▸\";float: left;margin-right: 0.25em;color: #696969;}#sk-container-id-17 label.sk-toggleable__label-arrow:hover:before {color: black;}#sk-container-id-17 div.sk-estimator:hover label.sk-toggleable__label-arrow:before {color: black;}#sk-container-id-17 div.sk-toggleable__content {max-height: 0;max-width: 0;overflow: hidden;text-align: left;background-color: #f0f8ff;}#sk-container-id-17 div.sk-toggleable__content pre {margin: 0.2em;color: black;border-radius: 0.25em;background-color: #f0f8ff;}#sk-container-id-17 input.sk-toggleable__control:checked~div.sk-toggleable__content {max-height: 200px;max-width: 100%;overflow: auto;}#sk-container-id-17 input.sk-toggleable__control:checked~label.sk-toggleable__label-arrow:before {content: \"▾\";}#sk-container-id-17 div.sk-estimator input.sk-toggleable__control:checked~label.sk-toggleable__label {background-color: #d4ebff;}#sk-container-id-17 div.sk-label input.sk-toggleable__control:checked~label.sk-toggleable__label {background-color: #d4ebff;}#sk-container-id-17 input.sk-hidden--visually {border: 0;clip: rect(1px 1px 1px 1px);clip: rect(1px, 1px, 1px, 1px);height: 1px;margin: -1px;overflow: hidden;padding: 0;position: absolute;width: 1px;}#sk-container-id-17 div.sk-estimator {font-family: monospace;background-color: #f0f8ff;border: 1px dotted black;border-radius: 0.25em;box-sizing: border-box;margin-bottom: 0.5em;}#sk-container-id-17 div.sk-estimator:hover {background-color: #d4ebff;}#sk-container-id-17 div.sk-parallel-item::after {content: \"\";width: 100%;border-bottom: 1px solid gray;flex-grow: 1;}#sk-container-id-17 div.sk-label:hover label.sk-toggleable__label {background-color: #d4ebff;}#sk-container-id-17 div.sk-serial::before {content: \"\";position: absolute;border-left: 1px solid gray;box-sizing: border-box;top: 0;bottom: 0;left: 50%;z-index: 0;}#sk-container-id-17 div.sk-serial {display: flex;flex-direction: column;align-items: center;background-color: white;padding-right: 0.2em;padding-left: 0.2em;position: relative;}#sk-container-id-17 div.sk-item {position: relative;z-index: 1;}#sk-container-id-17 div.sk-parallel {display: flex;align-items: stretch;justify-content: center;background-color: white;position: relative;}#sk-container-id-17 div.sk-item::before, #sk-container-id-17 div.sk-parallel-item::before {content: \"\";position: absolute;border-left: 1px solid gray;box-sizing: border-box;top: 0;bottom: 0;left: 50%;z-index: -1;}#sk-container-id-17 div.sk-parallel-item {display: flex;flex-direction: column;z-index: 1;position: relative;background-color: white;}#sk-container-id-17 div.sk-parallel-item:first-child::after {align-self: flex-end;width: 50%;}#sk-container-id-17 div.sk-parallel-item:last-child::after {align-self: flex-start;width: 50%;}#sk-container-id-17 div.sk-parallel-item:only-child::after {width: 0;}#sk-container-id-17 div.sk-dashed-wrapped {border: 1px dashed gray;margin: 0 0.4em 0.5em 0.4em;box-sizing: border-box;padding-bottom: 0.4em;background-color: white;}#sk-container-id-17 div.sk-label label {font-family: monospace;font-weight: bold;display: inline-block;line-height: 1.2em;}#sk-container-id-17 div.sk-label-container {text-align: center;}#sk-container-id-17 div.sk-container {/* jupyter's `normalize.less` sets `[hidden] { display: none; }` but bootstrap.min.css set `[hidden] { display: none !important; }` so we also need the `!important` here to be able to override the default hidden behavior on the sphinx rendered scikit-learn.org. See: https://github.com/scikit-learn/scikit-learn/issues/21755 */display: inline-block !important;position: relative;}#sk-container-id-17 div.sk-text-repr-fallback {display: none;}</style><div id=\"sk-container-id-17\" class=\"sk-top-container\"><div class=\"sk-text-repr-fallback\"><pre>Pipeline(steps=[(&#x27;transformer&#x27;,\n",
       "                 ColumnTransformer(n_jobs=48,\n",
       "                                   transformers=[(&#x27;standard_scaler&#x27;,\n",
       "                                                  StandardScaler(),\n",
       "                                                  [0, 1, 2, 3, 4, 5, 6, 7, 8, 9,\n",
       "                                                   10, 11, 12, 13, 14, 15, 16,\n",
       "                                                   17, 18, 19, 20, 21, 22, 23,\n",
       "                                                   24, 25, 26, 27, 28, 29, ...]),\n",
       "                                                 (&#x27;min_max_scaler&#x27;,\n",
       "                                                  MinMaxScaler(),\n",
       "                                                  [51, 52, 53, 54, 55, 56, 57,\n",
       "                                                   58, 59, 60, 61, 62, 63, 64,\n",
       "                                                   65, 66, 67, 68, 69, 70, 71,\n",
       "                                                   72, 73, 74, 75, 76, 77, 78,\n",
       "                                                   79, 80, ...])])),\n",
       "                (&#x27;feature_selection&#x27;, SelectKBest(k=50)),\n",
       "                (&#x27;logistic&#x27;,\n",
       "                 LogisticRegression(max_iter=500, n_jobs=48, solver=&#x27;sag&#x27;))])</pre><b>In a Jupyter environment, please rerun this cell to show the HTML representation or trust the notebook. <br />On GitHub, the HTML representation is unable to render, please try loading this page with nbviewer.org.</b></div><div class=\"sk-container\" hidden><div class=\"sk-item sk-dashed-wrapped\"><div class=\"sk-label-container\"><div class=\"sk-label sk-toggleable\"><input class=\"sk-toggleable__control sk-hidden--visually\" id=\"sk-estimator-id-78\" type=\"checkbox\" ><label for=\"sk-estimator-id-78\" class=\"sk-toggleable__label sk-toggleable__label-arrow\">Pipeline</label><div class=\"sk-toggleable__content\"><pre>Pipeline(steps=[(&#x27;transformer&#x27;,\n",
       "                 ColumnTransformer(n_jobs=48,\n",
       "                                   transformers=[(&#x27;standard_scaler&#x27;,\n",
       "                                                  StandardScaler(),\n",
       "                                                  [0, 1, 2, 3, 4, 5, 6, 7, 8, 9,\n",
       "                                                   10, 11, 12, 13, 14, 15, 16,\n",
       "                                                   17, 18, 19, 20, 21, 22, 23,\n",
       "                                                   24, 25, 26, 27, 28, 29, ...]),\n",
       "                                                 (&#x27;min_max_scaler&#x27;,\n",
       "                                                  MinMaxScaler(),\n",
       "                                                  [51, 52, 53, 54, 55, 56, 57,\n",
       "                                                   58, 59, 60, 61, 62, 63, 64,\n",
       "                                                   65, 66, 67, 68, 69, 70, 71,\n",
       "                                                   72, 73, 74, 75, 76, 77, 78,\n",
       "                                                   79, 80, ...])])),\n",
       "                (&#x27;feature_selection&#x27;, SelectKBest(k=50)),\n",
       "                (&#x27;logistic&#x27;,\n",
       "                 LogisticRegression(max_iter=500, n_jobs=48, solver=&#x27;sag&#x27;))])</pre></div></div></div><div class=\"sk-serial\"><div class=\"sk-item sk-dashed-wrapped\"><div class=\"sk-label-container\"><div class=\"sk-label sk-toggleable\"><input class=\"sk-toggleable__control sk-hidden--visually\" id=\"sk-estimator-id-79\" type=\"checkbox\" ><label for=\"sk-estimator-id-79\" class=\"sk-toggleable__label sk-toggleable__label-arrow\">transformer: ColumnTransformer</label><div class=\"sk-toggleable__content\"><pre>ColumnTransformer(n_jobs=48,\n",
       "                  transformers=[(&#x27;standard_scaler&#x27;, StandardScaler(),\n",
       "                                 [0, 1, 2, 3, 4, 5, 6, 7, 8, 9, 10, 11, 12, 13,\n",
       "                                  14, 15, 16, 17, 18, 19, 20, 21, 22, 23, 24,\n",
       "                                  25, 26, 27, 28, 29, ...]),\n",
       "                                (&#x27;min_max_scaler&#x27;, MinMaxScaler(),\n",
       "                                 [51, 52, 53, 54, 55, 56, 57, 58, 59, 60, 61,\n",
       "                                  62, 63, 64, 65, 66, 67, 68, 69, 70, 71, 72,\n",
       "                                  73, 74, 75, 76, 77, 78, 79, 80, ...])])</pre></div></div></div><div class=\"sk-parallel\"><div class=\"sk-parallel-item\"><div class=\"sk-item\"><div class=\"sk-label-container\"><div class=\"sk-label sk-toggleable\"><input class=\"sk-toggleable__control sk-hidden--visually\" id=\"sk-estimator-id-80\" type=\"checkbox\" ><label for=\"sk-estimator-id-80\" class=\"sk-toggleable__label sk-toggleable__label-arrow\">standard_scaler</label><div class=\"sk-toggleable__content\"><pre>[0, 1, 2, 3, 4, 5, 6, 7, 8, 9, 10, 11, 12, 13, 14, 15, 16, 17, 18, 19, 20, 21, 22, 23, 24, 25, 26, 27, 28, 29, 30, 31, 32, 33, 34, 35, 36, 37, 38, 39, 40, 41, 42, 43, 44, 45, 46, 47, 48, 49]</pre></div></div></div><div class=\"sk-serial\"><div class=\"sk-item\"><div class=\"sk-estimator sk-toggleable\"><input class=\"sk-toggleable__control sk-hidden--visually\" id=\"sk-estimator-id-81\" type=\"checkbox\" ><label for=\"sk-estimator-id-81\" class=\"sk-toggleable__label sk-toggleable__label-arrow\">StandardScaler</label><div class=\"sk-toggleable__content\"><pre>StandardScaler()</pre></div></div></div></div></div></div><div class=\"sk-parallel-item\"><div class=\"sk-item\"><div class=\"sk-label-container\"><div class=\"sk-label sk-toggleable\"><input class=\"sk-toggleable__control sk-hidden--visually\" id=\"sk-estimator-id-82\" type=\"checkbox\" ><label for=\"sk-estimator-id-82\" class=\"sk-toggleable__label sk-toggleable__label-arrow\">min_max_scaler</label><div class=\"sk-toggleable__content\"><pre>[51, 52, 53, 54, 55, 56, 57, 58, 59, 60, 61, 62, 63, 64, 65, 66, 67, 68, 69, 70, 71, 72, 73, 74, 75, 76, 77, 78, 79, 80, 81, 82, 83, 84, 85, 86, 87, 88, 89, 90, 91, 92, 93, 94, 95, 96, 97, 98, 99]</pre></div></div></div><div class=\"sk-serial\"><div class=\"sk-item\"><div class=\"sk-estimator sk-toggleable\"><input class=\"sk-toggleable__control sk-hidden--visually\" id=\"sk-estimator-id-83\" type=\"checkbox\" ><label for=\"sk-estimator-id-83\" class=\"sk-toggleable__label sk-toggleable__label-arrow\">MinMaxScaler</label><div class=\"sk-toggleable__content\"><pre>MinMaxScaler()</pre></div></div></div></div></div></div></div></div><div class=\"sk-item\"><div class=\"sk-estimator sk-toggleable\"><input class=\"sk-toggleable__control sk-hidden--visually\" id=\"sk-estimator-id-84\" type=\"checkbox\" ><label for=\"sk-estimator-id-84\" class=\"sk-toggleable__label sk-toggleable__label-arrow\">SelectKBest</label><div class=\"sk-toggleable__content\"><pre>SelectKBest(k=50)</pre></div></div></div><div class=\"sk-item\"><div class=\"sk-estimator sk-toggleable\"><input class=\"sk-toggleable__control sk-hidden--visually\" id=\"sk-estimator-id-85\" type=\"checkbox\" ><label for=\"sk-estimator-id-85\" class=\"sk-toggleable__label sk-toggleable__label-arrow\">LogisticRegression</label><div class=\"sk-toggleable__content\"><pre>LogisticRegression(max_iter=500, n_jobs=48, solver=&#x27;sag&#x27;)</pre></div></div></div></div></div></div></div>"
      ],
      "text/plain": [
       "Pipeline(steps=[('transformer',\n",
       "                 ColumnTransformer(n_jobs=48,\n",
       "                                   transformers=[('standard_scaler',\n",
       "                                                  StandardScaler(),\n",
       "                                                  [0, 1, 2, 3, 4, 5, 6, 7, 8, 9,\n",
       "                                                   10, 11, 12, 13, 14, 15, 16,\n",
       "                                                   17, 18, 19, 20, 21, 22, 23,\n",
       "                                                   24, 25, 26, 27, 28, 29, ...]),\n",
       "                                                 ('min_max_scaler',\n",
       "                                                  MinMaxScaler(),\n",
       "                                                  [51, 52, 53, 54, 55, 56, 57,\n",
       "                                                   58, 59, 60, 61, 62, 63, 64,\n",
       "                                                   65, 66, 67, 68, 69, 70, 71,\n",
       "                                                   72, 73, 74, 75, 76, 77, 78,\n",
       "                                                   79, 80, ...])])),\n",
       "                ('feature_selection', SelectKBest(k=50)),\n",
       "                ('logistic',\n",
       "                 LogisticRegression(max_iter=500, n_jobs=48, solver='sag'))])"
      ]
     },
     "execution_count": 50,
     "metadata": {},
     "output_type": "execute_result"
    }
   ],
   "source": [
    "time_start=time.time()\n",
    "column_transformer = ColumnTransformer(n_jobs=48,\n",
    "    transformers=[\n",
    "        ('standard_scaler', StandardScaler(), list(range(0, 50))),  # Apply StandardScaler to the first two features\n",
    "        ('min_max_scaler', MinMaxScaler(), list(range(51, 100)))     # Apply MinMaxScaler to the last two features\n",
    "    ])\n",
    "\n",
    "feature_selection = SelectKBest(score_func=f_classif, k=50)\n",
    "pipeline_complex = Pipeline([\n",
    "    ('transformer', column_transformer),\n",
    "    ('feature_selection', feature_selection),\n",
    "    #('classifier', RandomForestClassifier(random_state=42,n_jobs=48)),\n",
    "    ('logistic', LogisticRegression(solver='sag',max_iter=500, n_jobs=48))\n",
    "])\n",
    "\n",
    "pipeline_complex.fit(X_train,y_train)\n",
    "\n",
    "time_end=time.time()\n",
    "total_time=(time_end-time_start)\n",
    "print(f'Total Time: {round(total_time,2)} seconds')\n",
    "pipeline_complex"
   ]
  },
  {
   "cell_type": "code",
   "execution_count": 51,
   "id": "9a0a4317-5a05-411c-8b18-0dd789be0b33",
   "metadata": {},
   "outputs": [
    {
     "data": {
      "text/html": [
       "<style>#sk-container-id-18 {color: black;}#sk-container-id-18 pre{padding: 0;}#sk-container-id-18 div.sk-toggleable {background-color: white;}#sk-container-id-18 label.sk-toggleable__label {cursor: pointer;display: block;width: 100%;margin-bottom: 0;padding: 0.3em;box-sizing: border-box;text-align: center;}#sk-container-id-18 label.sk-toggleable__label-arrow:before {content: \"▸\";float: left;margin-right: 0.25em;color: #696969;}#sk-container-id-18 label.sk-toggleable__label-arrow:hover:before {color: black;}#sk-container-id-18 div.sk-estimator:hover label.sk-toggleable__label-arrow:before {color: black;}#sk-container-id-18 div.sk-toggleable__content {max-height: 0;max-width: 0;overflow: hidden;text-align: left;background-color: #f0f8ff;}#sk-container-id-18 div.sk-toggleable__content pre {margin: 0.2em;color: black;border-radius: 0.25em;background-color: #f0f8ff;}#sk-container-id-18 input.sk-toggleable__control:checked~div.sk-toggleable__content {max-height: 200px;max-width: 100%;overflow: auto;}#sk-container-id-18 input.sk-toggleable__control:checked~label.sk-toggleable__label-arrow:before {content: \"▾\";}#sk-container-id-18 div.sk-estimator input.sk-toggleable__control:checked~label.sk-toggleable__label {background-color: #d4ebff;}#sk-container-id-18 div.sk-label input.sk-toggleable__control:checked~label.sk-toggleable__label {background-color: #d4ebff;}#sk-container-id-18 input.sk-hidden--visually {border: 0;clip: rect(1px 1px 1px 1px);clip: rect(1px, 1px, 1px, 1px);height: 1px;margin: -1px;overflow: hidden;padding: 0;position: absolute;width: 1px;}#sk-container-id-18 div.sk-estimator {font-family: monospace;background-color: #f0f8ff;border: 1px dotted black;border-radius: 0.25em;box-sizing: border-box;margin-bottom: 0.5em;}#sk-container-id-18 div.sk-estimator:hover {background-color: #d4ebff;}#sk-container-id-18 div.sk-parallel-item::after {content: \"\";width: 100%;border-bottom: 1px solid gray;flex-grow: 1;}#sk-container-id-18 div.sk-label:hover label.sk-toggleable__label {background-color: #d4ebff;}#sk-container-id-18 div.sk-serial::before {content: \"\";position: absolute;border-left: 1px solid gray;box-sizing: border-box;top: 0;bottom: 0;left: 50%;z-index: 0;}#sk-container-id-18 div.sk-serial {display: flex;flex-direction: column;align-items: center;background-color: white;padding-right: 0.2em;padding-left: 0.2em;position: relative;}#sk-container-id-18 div.sk-item {position: relative;z-index: 1;}#sk-container-id-18 div.sk-parallel {display: flex;align-items: stretch;justify-content: center;background-color: white;position: relative;}#sk-container-id-18 div.sk-item::before, #sk-container-id-18 div.sk-parallel-item::before {content: \"\";position: absolute;border-left: 1px solid gray;box-sizing: border-box;top: 0;bottom: 0;left: 50%;z-index: -1;}#sk-container-id-18 div.sk-parallel-item {display: flex;flex-direction: column;z-index: 1;position: relative;background-color: white;}#sk-container-id-18 div.sk-parallel-item:first-child::after {align-self: flex-end;width: 50%;}#sk-container-id-18 div.sk-parallel-item:last-child::after {align-self: flex-start;width: 50%;}#sk-container-id-18 div.sk-parallel-item:only-child::after {width: 0;}#sk-container-id-18 div.sk-dashed-wrapped {border: 1px dashed gray;margin: 0 0.4em 0.5em 0.4em;box-sizing: border-box;padding-bottom: 0.4em;background-color: white;}#sk-container-id-18 div.sk-label label {font-family: monospace;font-weight: bold;display: inline-block;line-height: 1.2em;}#sk-container-id-18 div.sk-label-container {text-align: center;}#sk-container-id-18 div.sk-container {/* jupyter's `normalize.less` sets `[hidden] { display: none; }` but bootstrap.min.css set `[hidden] { display: none !important; }` so we also need the `!important` here to be able to override the default hidden behavior on the sphinx rendered scikit-learn.org. See: https://github.com/scikit-learn/scikit-learn/issues/21755 */display: inline-block !important;position: relative;}#sk-container-id-18 div.sk-text-repr-fallback {display: none;}</style><div id=\"sk-container-id-18\" class=\"sk-top-container\"><div class=\"sk-text-repr-fallback\"><pre>LogisticRegression(max_iter=500, n_jobs=48, solver=&#x27;sag&#x27;)</pre><b>In a Jupyter environment, please rerun this cell to show the HTML representation or trust the notebook. <br />On GitHub, the HTML representation is unable to render, please try loading this page with nbviewer.org.</b></div><div class=\"sk-container\" hidden><div class=\"sk-item\"><div class=\"sk-estimator sk-toggleable\"><input class=\"sk-toggleable__control sk-hidden--visually\" id=\"sk-estimator-id-86\" type=\"checkbox\" checked><label for=\"sk-estimator-id-86\" class=\"sk-toggleable__label sk-toggleable__label-arrow\">LogisticRegression</label><div class=\"sk-toggleable__content\"><pre>LogisticRegression(max_iter=500, n_jobs=48, solver=&#x27;sag&#x27;)</pre></div></div></div></div></div>"
      ],
      "text/plain": [
       "LogisticRegression(max_iter=500, n_jobs=48, solver='sag')"
      ]
     },
     "execution_count": 51,
     "metadata": {},
     "output_type": "execute_result"
    }
   ],
   "source": [
    "pipeline_complex['logistic']"
   ]
  },
  {
   "cell_type": "markdown",
   "id": "8186762d-c37a-47e0-a08d-b554e288bc09",
   "metadata": {},
   "source": [
    "# Predictions"
   ]
  },
  {
   "cell_type": "code",
   "execution_count": 46,
   "id": "9d6a16fe-e0f2-45de-a21a-b4b95c749020",
   "metadata": {},
   "outputs": [],
   "source": [
    "predictions_simple = pipeline.predict(X_test)"
   ]
  },
  {
   "cell_type": "code",
   "execution_count": 52,
   "id": "f3d9a103-6dfb-49da-8450-2ac583e92449",
   "metadata": {},
   "outputs": [],
   "source": [
    "predictions_complex= pipeline_complex.predict(X_test)"
   ]
  },
  {
   "cell_type": "markdown",
   "id": "f5097dd3-ca02-4c46-adbe-5ae3ec7193b8",
   "metadata": {},
   "source": [
    "# Scoring"
   ]
  },
  {
   "cell_type": "code",
   "execution_count": 48,
   "id": "bc1f3035-6e25-452a-864a-b6a0050d5526",
   "metadata": {},
   "outputs": [
    {
     "data": {
      "text/plain": [
       "0.74825"
      ]
     },
     "execution_count": 48,
     "metadata": {},
     "output_type": "execute_result"
    }
   ],
   "source": [
    "accuracy_score(y_test,predictions_simple)"
   ]
  },
  {
   "cell_type": "code",
   "execution_count": 53,
   "id": "c5146390-7536-483f-bdca-98692be81601",
   "metadata": {},
   "outputs": [
    {
     "data": {
      "text/plain": [
       "0.47095"
      ]
     },
     "execution_count": 53,
     "metadata": {},
     "output_type": "execute_result"
    }
   ],
   "source": [
    "accuracy_score(y_test,predictions_complex)"
   ]
  },
  {
   "cell_type": "code",
   "execution_count": null,
   "id": "7a1e4275-f153-417b-b052-f14f02d10bb3",
   "metadata": {},
   "outputs": [],
   "source": []
  }
 ],
 "metadata": {
  "kernelspec": {
   "display_name": "Python 3 (ipykernel)",
   "language": "python",
   "name": "python3"
  },
  "language_info": {
   "codemirror_mode": {
    "name": "ipython",
    "version": 3
   },
   "file_extension": ".py",
   "mimetype": "text/x-python",
   "name": "python",
   "nbconvert_exporter": "python",
   "pygments_lexer": "ipython3",
   "version": "3.9.13"
  }
 },
 "nbformat": 4,
 "nbformat_minor": 5
}
